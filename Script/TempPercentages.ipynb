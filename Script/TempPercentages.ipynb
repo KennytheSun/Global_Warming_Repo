{
 "cells": [
  {
   "cell_type": "code",
   "execution_count": 1,
   "metadata": {},
   "outputs": [],
   "source": [
    "import csv\n",
    "import pandas as pd\n",
    "import matplotlib.pyplot as plt"
   ]
  },
  {
   "cell_type": "code",
   "execution_count": 2,
   "metadata": {},
   "outputs": [],
   "source": [
    "temp_file = \"../Resources/GlobalLandTemperaturesByState.csv\"\n",
    "temp_df = pd.read_csv(temp_file)\n"
   ]
  },
  {
   "cell_type": "code",
   "execution_count": 3,
   "metadata": {},
   "outputs": [],
   "source": [
    "start_year = 1743\n",
    "end_year = 2015\n",
    "\n",
    "for year in range(start_year, end_year + 1): \n",
    "    temp_df.loc[temp_df['dt'].str.contains(str(year)), 'Year'] = str(year)\n",
    "    \n",
    "US_temp_df = temp_df[temp_df[\"Country\"] == \"United States\"]"
   ]
  },
  {
   "cell_type": "code",
   "execution_count": 4,
   "metadata": {},
   "outputs": [],
   "source": [
    "##Code I was messing around with. Please Ignore -Kenny\n",
    "\n",
    "#ny_df = temp_df[temp_df['State'] == 'New York']\n",
    "#ny_df = ny_df.groupby(['Year']).mean()\n",
    "#first_ny_years = ny_df.iloc[-24] + ny_df.iloc[-23] + ny_df.iloc[-22] \n",
    "#second_ny_years = ny_df.iloc[-1] + ny_df.iloc[-2] + ny_df.iloc[-3] \n",
    "#print(first_ny_years)\n",
    "#print(second_ny_years)\n",
    "\n",
    "#ny_percent_increase = ((1 - (first_ny_years['AverageTemperature']/second_ny_years['AverageTemperature'])) * 100)\n",
    "#print(f'{ny_percent_increase.round(2)}% increased in temperature in New York')\n",
    "\n"
   ]
  },
  {
   "cell_type": "code",
   "execution_count": 5,
   "metadata": {},
   "outputs": [
    {
     "name": "stdout",
     "output_type": "stream",
     "text": [
      "New York experienced a 5.121% in average temperature when comparing July-August 1990-93 to July-August 2011-2013\n"
     ]
    }
   ],
   "source": [
    "temp_df['Month'] = temp_df['dt'].str[6:7]\n",
    "\n",
    "summer_months = temp_df[(temp_df['Month'] >= '6') & (temp_df['Month'] <= '8')]\n",
    "\n",
    "#find Average Temperature of summer months for New York between certain years\n",
    "\n",
    "ny_summer = summer_months[(summer_months['State'] == 'New York')]\n",
    "ny_summer\n",
    "\n",
    "ny_1990_avg = ny_summer[(ny_summer['Year'] == '1990') ].mean()\n",
    "ny_1991_avg = ny_summer[(ny_summer['Year'] == '1991') ].mean()\n",
    "ny_1992_avg = ny_summer[(ny_summer['Year'] == '1992') ].mean()\n",
    "\n",
    "ny_2011_avg = ny_summer[(ny_summer['Year'] == '2011' )].mean()\n",
    "ny_2012_avg = ny_summer[(ny_summer['Year'] == '2012' )].mean()\n",
    "ny_2013_avg = ny_summer[(ny_summer['Year'] == '2013' )].mean()\n",
    "\n",
    "ny_start_avg = (ny_1990_avg['AverageTemperature'] + ny_1991_avg['AverageTemperature'] + ny_1992_avg['AverageTemperature'])/ 3\n",
    "ny_end_avg = (ny_2011_avg['AverageTemperature'] + ny_2012_avg['AverageTemperature'] + ny_2013_avg['AverageTemperature'])/ 3\n",
    "\n",
    "\n",
    "ny_percent_increase = ((1 - (ny_start_avg/ny_end_avg)) * 100).round(3)\n",
    "print(f'New York experienced a {ny_percent_increase}% in average temperature when comparing July-August 1990-93 to July-August 2011-2013')\n",
    "\n",
    "\n"
   ]
  },
  {
   "cell_type": "code",
   "execution_count": 6,
   "metadata": {},
   "outputs": [
    {
     "name": "stdout",
     "output_type": "stream",
     "text": [
      "California experienced a 1.32% in average temperature when comparing July-August 1990-93 to July-August 2011-13\n"
     ]
    }
   ],
   "source": [
    "#find Average Temperature of summer months for California between certain years\n",
    "\n",
    "ca_summer = summer_months[(summer_months['State'] == 'California')]\n",
    "ca_summer\n",
    "\n",
    "ca_1990_avg = ca_summer[(ca_summer['Year'] == '1990') ].mean()\n",
    "ca_1991_avg = ca_summer[(ca_summer['Year'] == '1991') ].mean()\n",
    "ca_1992_avg = ca_summer[(ca_summer['Year'] == '1992') ].mean()\n",
    "\n",
    "\n",
    "ca_2013_avg = ca_summer[(ca_summer['Year'] == '2013' )].mean()\n",
    "ca_2012_avg = ca_summer[(ca_summer['Year'] == '1991') ].mean()\n",
    "ca_2011_avg = ca_summer[(ca_summer['Year'] == '1992') ].mean()\n",
    "\n",
    "ca_start_avg = (ca_1990_avg['AverageTemperature'] + ca_1991_avg['AverageTemperature'] + ca_1992_avg['AverageTemperature'])/ 3\n",
    "ca_end_avg = (ca_2011_avg['AverageTemperature'] + ca_2012_avg['AverageTemperature'] + ca_2013_avg['AverageTemperature'])/ 3\n",
    "\n",
    "\n",
    "ca_percent_increase = ((1 - (ca_start_avg/ca_end_avg)) * 100).round(3)\n",
    "print(f'California experienced a {ca_percent_increase}% in average temperature when comparing July-August 1990-93 to July-August 2011-13')\n"
   ]
  },
  {
   "cell_type": "code",
   "execution_count": 7,
   "metadata": {},
   "outputs": [
    {
     "name": "stdout",
     "output_type": "stream",
     "text": [
      "Illinois experienced a 5.006% in average temperature when comparing July-August 1990 to July-August 2013\n"
     ]
    }
   ],
   "source": [
    "\n",
    "#find Average Temperature of summer months for Illinois between certain years\n",
    "\n",
    "il_summer = summer_months[(summer_months['State'] == 'Illinois')]\n",
    "il_summer\n",
    "\n",
    "il_1990_avg = il_summer[(il_summer['Year'] == '1990') ].mean()\n",
    "il_1991_avg = il_summer[(il_summer['Year'] == '1991') ].mean()\n",
    "il_1992_avg = il_summer[(il_summer['Year'] == '1992') ].mean()\n",
    "\n",
    "il_2011_avg = il_summer[(il_summer['Year'] == '2011' )].mean()\n",
    "il_2012_avg = il_summer[(il_summer['Year'] == '2012' )].mean()\n",
    "il_2013_avg = il_summer[(il_summer['Year'] == '2013' )].mean()\n",
    "\n",
    "il_start_avg = (il_1990_avg['AverageTemperature'] + il_1991_avg['AverageTemperature'] + il_1992_avg['AverageTemperature'])/ 3\n",
    "il_end_avg = (il_2011_avg['AverageTemperature'] + il_2012_avg['AverageTemperature'] + il_2013_avg['AverageTemperature'])/ 3\n",
    "\n",
    "il_percent_increase = ((1 - (il_start_avg/il_end_avg)) * 100).round(3)\n",
    "print(f'Illinois experienced a {il_percent_increase}% in average temperature when comparing July-August 1990 to July-August 2013')\n",
    "\n",
    "#if il_percent_increase < 0: \n",
    " #   il_percent_increase = 0\n",
    "#else:\n",
    " #   il_percent_increase = il_percent_increase\n"
   ]
  },
  {
   "cell_type": "code",
   "execution_count": 8,
   "metadata": {},
   "outputs": [],
   "source": [
    "#plot percentages against each other\n",
    "\n",
    "states = ['New York', 'California', 'Illinois']\n",
    "increases = [ny_percent_increase, ca_percent_increase, il_percent_increase]\n",
    "#plt.bar(states, increases)\n",
    "#plt.xlabel('States')\n",
    "#plt.ylabel('% increase')\n",
    "#plt.title('% change in avg. temp. between Jul-Aug 1990-93 and Jul-Aug 2011-13')"
   ]
  },
  {
   "cell_type": "code",
   "execution_count": 9,
   "metadata": {},
   "outputs": [
    {
     "data": {
      "text/plain": [
       "[3.944,\n",
       " -25.298,\n",
       " 8.205,\n",
       " 5.694,\n",
       " 4.536,\n",
       " 14.868,\n",
       " 9.932,\n",
       " 5.922,\n",
       " 5.464,\n",
       " 1.781,\n",
       " 3.5,\n",
       " -1.718,\n",
       " 11.578,\n",
       " 6.761,\n",
       " 6.517,\n",
       " 9.738,\n",
       " 7.868,\n",
       " 5.129,\n",
       " 4.837,\n",
       " 22.271,\n",
       " 5.141,\n",
       " 12.538,\n",
       " 12.183,\n",
       " 14.471,\n",
       " 4.199,\n",
       " 6.083,\n",
       " 10.115,\n",
       " 8.958,\n",
       " 8.545,\n",
       " 17.249,\n",
       " 7.401,\n",
       " 12.144,\n",
       " 12.149,\n",
       " 2.859,\n",
       " 8.809,\n",
       " 6.615,\n",
       " 7.832,\n",
       " 3.004,\n",
       " 8.002,\n",
       " 10.127,\n",
       " 2.852,\n",
       " 7.702,\n",
       " 4.761,\n",
       " 7.828,\n",
       " 10.942,\n",
       " 17.575,\n",
       " 3.885,\n",
       " 3.16,\n",
       " 5.286,\n",
       " 13.032,\n",
       " 16.271]"
      ]
     },
     "execution_count": 9,
     "metadata": {},
     "output_type": "execute_result"
    }
   ],
   "source": [
    "number_of_states = 50\n",
    "years = 23\n",
    "avg_temp = []\n",
    "state_percentages = []\n",
    "i = 0\n",
    "j = 0\n",
    "US_temp_df.sort_values('State')\n",
    "\n",
    "US_list = US_temp_df['State'].unique().tolist()\n",
    "year_list = US_temp_df['Year'].unique().tolist()\n",
    "\n",
    "#year_list = year_list[-24:-1]\n",
    "#year_list.append('2013')\n",
    "\n",
    "\n",
    "all_states = US_temp_df.groupby(['State', 'Year']).mean().reset_index()\n",
    "all_states['AverageTemperature'].value_counts()\n",
    "#state_info = all_states[(all_states['State'] == (US_list[1]))]\n",
    "#state_info\n",
    "#state_year = state_info[(state_info['Year'] == (year_list[-1]))]\n",
    "#state_year\n",
    "\n",
    "#temp_df[temp_df]\n",
    "\n",
    "\n",
    "for i in range(number_of_states + 1):\n",
    "    #for j in range(years):\n",
    "        state_info = all_states[(all_states['State'] == (US_list[i]))]\n",
    "        state_year1 = state_info[(state_info['Year'] == '1990')].mean()\n",
    "        state_year2 = state_info[(state_info['Year'] == '1991')].mean()\n",
    "        state_year3 = state_info[(state_info['Year'] == '1992')].mean()\n",
    "        state_year4 = state_info[(state_info['Year'] == '2011')].mean()\n",
    "        state_year5 = state_info[(state_info['Year'] == '2012')].mean()\n",
    "        state_year6 = state_info[(state_info['Year'] == '2013')].mean()\n",
    "        start_avg = (state_year1['AverageTemperature'] + state_year2['AverageTemperature'] + state_year3['AverageTemperature'])/ 3\n",
    "        end_avg = (state_year4['AverageTemperature'] + state_year5['AverageTemperature'] + state_year6['AverageTemperature'])/ 3\n",
    "        \n",
    "        percentage = ((1 - (start_avg/end_avg)) * 100).round(3)\n",
    "        state_percentages.append(percentage)\n",
    "state_percentages\n",
    "\n",
    "        "
   ]
  },
  {
   "cell_type": "code",
   "execution_count": 12,
   "metadata": {},
   "outputs": [
    {
     "data": {
      "image/png": "[encoded data removed]",
      "text/plain": [
       "<Figure size 432x288 with 1 Axes>"
      ]
     },
     "metadata": {
      "needs_background": "light"
     },
     "output_type": "display_data"
    },
    {
     "data": {
      "text/plain": [
       "<Figure size 1440x720 with 0 Axes>"
      ]
     },
     "metadata": {},
     "output_type": "display_data"
    }
   ],
   "source": [
    "plt.bar(US_list, state_percentages, color='r', alpha=0.5, align=\"center\")\n",
    "plt.xlabel(\"All 50 U.S. States\")\n",
    "plt.xticks(rotation = 90)\n",
    "plt.ylabel(f'% increase from 1990-92 to 2011-13')\n",
    "plt.title('% change in avg. temp. of 1990-92 to 2011-13')\n",
    "plt.xlim(-0.75, len(US_list)-20)\n",
    "fig =plt.figure(figsize = (20,10))\n",
    "#plt.savefig(\"../Script/output_data/temppercentages.png\")"
   ]
  },
  {
   "cell_type": "code",
   "execution_count": null,
   "metadata": {},
   "outputs": [],
   "source": []
  }
 ],
 "metadata": {
  "kernelspec": {
   "display_name": "Python 3",
   "language": "python",
   "name": "python3"
  },
  "language_info": {
   "codemirror_mode": {
    "name": "ipython",
    "version": 3
   },
   "file_extension": ".py",
   "mimetype": "text/x-python",
   "name": "python",
   "nbconvert_exporter": "python",
   "pygments_lexer": "ipython3",
   "version": "3.7.4"
  }
 },
 "nbformat": 4,
 "nbformat_minor": 2
}
