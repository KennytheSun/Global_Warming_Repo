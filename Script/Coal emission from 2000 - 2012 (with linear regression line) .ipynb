{
 "cells": [
  {
   "cell_type": "markdown",
   "metadata": {},
   "source": [
    "# US_States_Temp_VS_CO2_Emissions_2000-2013"
   ]
  },
  {
   "cell_type": "code",
   "execution_count": 18,
   "metadata": {},
   "outputs": [],
   "source": [
    "#create dependencies\n",
    "from scipy.stats import linregress"
   ]
  },
  {
   "cell_type": "code",
   "execution_count": 19,
   "metadata": {},
   "outputs": [],
   "source": [
    "import pandas as pd\n",
    "import matplotlib.pyplot as plt\n",
    "import numpy as numpy\n"
   ]
  },
  {
   "cell_type": "code",
   "execution_count": 20,
   "metadata": {},
   "outputs": [
    {
     "data": {
      "text/html": [
       "<div>\n",
       "<style scoped>\n",
       "    .dataframe tbody tr th:only-of-type {\n",
       "        vertical-align: middle;\n",
       "    }\n",
       "\n",
       "    .dataframe tbody tr th {\n",
       "        vertical-align: top;\n",
       "    }\n",
       "\n",
       "    .dataframe thead th {\n",
       "        text-align: right;\n",
       "    }\n",
       "</style>\n",
       "<table border=\"1\" class=\"dataframe\">\n",
       "  <thead>\n",
       "    <tr style=\"text-align: right;\">\n",
       "      <th></th>\n",
       "      <th>State</th>\n",
       "      <th>1980</th>\n",
       "      <th>1981</th>\n",
       "      <th>1982</th>\n",
       "      <th>1983</th>\n",
       "      <th>1984</th>\n",
       "      <th>1985</th>\n",
       "      <th>1986</th>\n",
       "      <th>1987</th>\n",
       "      <th>1988</th>\n",
       "      <th>...</th>\n",
       "      <th>2010</th>\n",
       "      <th>2011</th>\n",
       "      <th>2012</th>\n",
       "      <th>2013</th>\n",
       "      <th>2014</th>\n",
       "      <th>2015</th>\n",
       "      <th>2016</th>\n",
       "      <th>2017</th>\n",
       "      <th>Percent</th>\n",
       "      <th>Absolute</th>\n",
       "    </tr>\n",
       "  </thead>\n",
       "  <tbody>\n",
       "    <tr>\n",
       "      <th>0</th>\n",
       "      <td>Alabama</td>\n",
       "      <td>61.6</td>\n",
       "      <td>58.8</td>\n",
       "      <td>47.8</td>\n",
       "      <td>49.9</td>\n",
       "      <td>54.7</td>\n",
       "      <td>62.1</td>\n",
       "      <td>61.9</td>\n",
       "      <td>61.9</td>\n",
       "      <td>61.3</td>\n",
       "      <td>...</td>\n",
       "      <td>68.5</td>\n",
       "      <td>62.1</td>\n",
       "      <td>52.1</td>\n",
       "      <td>53.8</td>\n",
       "      <td>54.9</td>\n",
       "      <td>47.1</td>\n",
       "      <td>39.1</td>\n",
       "      <td>36.1</td>\n",
       "      <td>-41.40%</td>\n",
       "      <td>-25.5</td>\n",
       "    </tr>\n",
       "    <tr>\n",
       "      <th>1</th>\n",
       "      <td>Alaska</td>\n",
       "      <td>0.4</td>\n",
       "      <td>1.2</td>\n",
       "      <td>1.2</td>\n",
       "      <td>1.2</td>\n",
       "      <td>1.2</td>\n",
       "      <td>1.1</td>\n",
       "      <td>1.1</td>\n",
       "      <td>0.4</td>\n",
       "      <td>0.4</td>\n",
       "      <td>...</td>\n",
       "      <td>1.4</td>\n",
       "      <td>1.5</td>\n",
       "      <td>1.5</td>\n",
       "      <td>1.4</td>\n",
       "      <td>1.7</td>\n",
       "      <td>1.8</td>\n",
       "      <td>1.6</td>\n",
       "      <td>1.6</td>\n",
       "      <td>300.00%</td>\n",
       "      <td>1.2</td>\n",
       "    </tr>\n",
       "    <tr>\n",
       "      <th>2</th>\n",
       "      <td>Arizona</td>\n",
       "      <td>23</td>\n",
       "      <td>30</td>\n",
       "      <td>31.6</td>\n",
       "      <td>27.7</td>\n",
       "      <td>30.5</td>\n",
       "      <td>32.1</td>\n",
       "      <td>27.8</td>\n",
       "      <td>26.6</td>\n",
       "      <td>29.1</td>\n",
       "      <td>...</td>\n",
       "      <td>43.7</td>\n",
       "      <td>43.9</td>\n",
       "      <td>40.2</td>\n",
       "      <td>43.4</td>\n",
       "      <td>42.8</td>\n",
       "      <td>36.8</td>\n",
       "      <td>30.9</td>\n",
       "      <td>31.9</td>\n",
       "      <td>38.70%</td>\n",
       "      <td>8.9</td>\n",
       "    </tr>\n",
       "    <tr>\n",
       "      <th>3</th>\n",
       "      <td>Arkansas</td>\n",
       "      <td>3.4</td>\n",
       "      <td>9.6</td>\n",
       "      <td>11.8</td>\n",
       "      <td>16.7</td>\n",
       "      <td>15.4</td>\n",
       "      <td>20.7</td>\n",
       "      <td>21.1</td>\n",
       "      <td>19.8</td>\n",
       "      <td>20.6</td>\n",
       "      <td>...</td>\n",
       "      <td>28</td>\n",
       "      <td>29.2</td>\n",
       "      <td>28.3</td>\n",
       "      <td>31.2</td>\n",
       "      <td>32.4</td>\n",
       "      <td>21.7</td>\n",
       "      <td>23.5</td>\n",
       "      <td>25.6</td>\n",
       "      <td>652.90%</td>\n",
       "      <td>22.2</td>\n",
       "    </tr>\n",
       "    <tr>\n",
       "      <th>4</th>\n",
       "      <td>California</td>\n",
       "      <td>6.1</td>\n",
       "      <td>7.2</td>\n",
       "      <td>6.4</td>\n",
       "      <td>3</td>\n",
       "      <td>3.5</td>\n",
       "      <td>4.2</td>\n",
       "      <td>4</td>\n",
       "      <td>4.2</td>\n",
       "      <td>4.8</td>\n",
       "      <td>...</td>\n",
       "      <td>5.2</td>\n",
       "      <td>5.2</td>\n",
       "      <td>4.2</td>\n",
       "      <td>3.6</td>\n",
       "      <td>3.7</td>\n",
       "      <td>2.9</td>\n",
       "      <td>3</td>\n",
       "      <td>3.2</td>\n",
       "      <td>-47.50%</td>\n",
       "      <td>-2.9</td>\n",
       "    </tr>\n",
       "  </tbody>\n",
       "</table>\n",
       "<p>5 rows × 41 columns</p>\n",
       "</div>"
      ],
      "text/plain": [
       "        State  1980  1981  1982  1983  1984  1985  1986  1987  1988  ...  \\\n",
       "0     Alabama  61.6  58.8  47.8  49.9  54.7  62.1  61.9  61.9  61.3  ...   \n",
       "1      Alaska   0.4   1.2   1.2   1.2   1.2   1.1   1.1   0.4   0.4  ...   \n",
       "2     Arizona    23    30  31.6  27.7  30.5  32.1  27.8  26.6  29.1  ...   \n",
       "3    Arkansas   3.4   9.6  11.8  16.7  15.4  20.7  21.1  19.8  20.6  ...   \n",
       "4  California   6.1   7.2   6.4     3   3.5   4.2     4   4.2   4.8  ...   \n",
       "\n",
       "   2010  2011  2012  2013  2014  2015  2016  2017  Percent Absolute  \n",
       "0  68.5  62.1  52.1  53.8  54.9  47.1  39.1  36.1  -41.40%    -25.5  \n",
       "1   1.4   1.5   1.5   1.4   1.7   1.8   1.6   1.6  300.00%      1.2  \n",
       "2  43.7  43.9  40.2  43.4  42.8  36.8  30.9  31.9   38.70%      8.9  \n",
       "3    28  29.2  28.3  31.2  32.4  21.7  23.5  25.6  652.90%     22.2  \n",
       "4   5.2   5.2   4.2   3.6   3.7   2.9     3   3.2  -47.50%     -2.9  \n",
       "\n",
       "[5 rows x 41 columns]"
      ]
     },
     "execution_count": 20,
     "metadata": {},
     "output_type": "execute_result"
    }
   ],
   "source": [
    "#import csv files and #turn csv into a dataframe\n",
    "csv = \"../Resources/coal_CO2_by_state_2017.csv\"\n",
    "coal_data = pd.read_csv(csv)\n",
    "coal_data.head()"
   ]
  },
  {
   "cell_type": "markdown",
   "metadata": {},
   "source": [
    "# States on CO2/ Coal emission from 2000 - 2012 (with linear regression line) 3 plots "
   ]
  },
  {
   "cell_type": "markdown",
   "metadata": {},
   "source": [
    "# Plot scatter and regression line for emission (New York 2000-2012)"
   ]
  },
  {
   "cell_type": "code",
   "execution_count": 21,
   "metadata": {},
   "outputs": [
    {
     "data": {
      "text/html": [
       "<div>\n",
       "<style scoped>\n",
       "    .dataframe tbody tr th:only-of-type {\n",
       "        vertical-align: middle;\n",
       "    }\n",
       "\n",
       "    .dataframe tbody tr th {\n",
       "        vertical-align: top;\n",
       "    }\n",
       "\n",
       "    .dataframe thead th {\n",
       "        text-align: right;\n",
       "    }\n",
       "</style>\n",
       "<table border=\"1\" class=\"dataframe\">\n",
       "  <thead>\n",
       "    <tr style=\"text-align: right;\">\n",
       "      <th></th>\n",
       "      <th>2000</th>\n",
       "      <th>2001</th>\n",
       "      <th>2002</th>\n",
       "      <th>2003</th>\n",
       "      <th>2004</th>\n",
       "      <th>2006</th>\n",
       "      <th>2007</th>\n",
       "      <th>2008</th>\n",
       "      <th>2009</th>\n",
       "      <th>2010</th>\n",
       "      <th>2011</th>\n",
       "      <th>2012</th>\n",
       "    </tr>\n",
       "  </thead>\n",
       "  <tbody>\n",
       "    <tr>\n",
       "      <th>32</th>\n",
       "      <td>31.4</td>\n",
       "      <td>29.1</td>\n",
       "      <td>26.7</td>\n",
       "      <td>27.3</td>\n",
       "      <td>26.4</td>\n",
       "      <td>24.4</td>\n",
       "      <td>24.6</td>\n",
       "      <td>21.8</td>\n",
       "      <td>14.9</td>\n",
       "      <td>15.9</td>\n",
       "      <td>11.9</td>\n",
       "      <td>6.9</td>\n",
       "    </tr>\n",
       "  </tbody>\n",
       "</table>\n",
       "</div>"
      ],
      "text/plain": [
       "    2000  2001  2002  2003  2004  2006  2007  2008  2009  2010  2011 2012\n",
       "32  31.4  29.1  26.7  27.3  26.4  24.4  24.6  21.8  14.9  15.9  11.9  6.9"
      ]
     },
     "execution_count": 21,
     "metadata": {},
     "output_type": "execute_result"
    }
   ],
   "source": [
    "#extractiong new york data from 2000-2012 \n",
    "coal_New_York_data=coal_data[(coal_data['State'] == 'New York')]\n",
    "coal_New_York_data=coal_New_York_data[['2000', '2001', '2002',\"2003\",\"2004\",\"2006\",\"2007\",\"2008\",\"2009\",\"2010\",\"2011\",\"2012\"]]\n",
    "coal_New_York_data"
   ]
  },
  {
   "cell_type": "code",
   "execution_count": 22,
   "metadata": {},
   "outputs": [
    {
     "data": {
      "text/html": [
       "<div>\n",
       "<style scoped>\n",
       "    .dataframe tbody tr th:only-of-type {\n",
       "        vertical-align: middle;\n",
       "    }\n",
       "\n",
       "    .dataframe tbody tr th {\n",
       "        vertical-align: top;\n",
       "    }\n",
       "\n",
       "    .dataframe thead th {\n",
       "        text-align: right;\n",
       "    }\n",
       "</style>\n",
       "<table border=\"1\" class=\"dataframe\">\n",
       "  <thead>\n",
       "    <tr style=\"text-align: right;\">\n",
       "      <th></th>\n",
       "      <th>32</th>\n",
       "    </tr>\n",
       "  </thead>\n",
       "  <tbody>\n",
       "    <tr>\n",
       "      <th>2000</th>\n",
       "      <td>31.4</td>\n",
       "    </tr>\n",
       "    <tr>\n",
       "      <th>2001</th>\n",
       "      <td>29.1</td>\n",
       "    </tr>\n",
       "    <tr>\n",
       "      <th>2002</th>\n",
       "      <td>26.7</td>\n",
       "    </tr>\n",
       "    <tr>\n",
       "      <th>2003</th>\n",
       "      <td>27.3</td>\n",
       "    </tr>\n",
       "    <tr>\n",
       "      <th>2004</th>\n",
       "      <td>26.4</td>\n",
       "    </tr>\n",
       "    <tr>\n",
       "      <th>2006</th>\n",
       "      <td>24.4</td>\n",
       "    </tr>\n",
       "    <tr>\n",
       "      <th>2007</th>\n",
       "      <td>24.6</td>\n",
       "    </tr>\n",
       "    <tr>\n",
       "      <th>2008</th>\n",
       "      <td>21.8</td>\n",
       "    </tr>\n",
       "    <tr>\n",
       "      <th>2009</th>\n",
       "      <td>14.9</td>\n",
       "    </tr>\n",
       "    <tr>\n",
       "      <th>2010</th>\n",
       "      <td>15.9</td>\n",
       "    </tr>\n",
       "    <tr>\n",
       "      <th>2011</th>\n",
       "      <td>11.9</td>\n",
       "    </tr>\n",
       "    <tr>\n",
       "      <th>2012</th>\n",
       "      <td>6.9</td>\n",
       "    </tr>\n",
       "  </tbody>\n",
       "</table>\n",
       "</div>"
      ],
      "text/plain": [
       "        32\n",
       "2000  31.4\n",
       "2001  29.1\n",
       "2002  26.7\n",
       "2003  27.3\n",
       "2004  26.4\n",
       "2006  24.4\n",
       "2007  24.6\n",
       "2008  21.8\n",
       "2009  14.9\n",
       "2010  15.9\n",
       "2011  11.9\n",
       "2012   6.9"
      ]
     },
     "execution_count": 22,
     "metadata": {},
     "output_type": "execute_result"
    }
   ],
   "source": [
    "#transpose the new york data\n",
    "coal_New_York_data_transposed = coal_New_York_data.T # or df1.transpose()\n",
    "coal_New_York_data_transposed"
   ]
  },
  {
   "cell_type": "code",
   "execution_count": 23,
   "metadata": {},
   "outputs": [
    {
     "data": {
      "text/html": [
       "<div>\n",
       "<style scoped>\n",
       "    .dataframe tbody tr th:only-of-type {\n",
       "        vertical-align: middle;\n",
       "    }\n",
       "\n",
       "    .dataframe tbody tr th {\n",
       "        vertical-align: top;\n",
       "    }\n",
       "\n",
       "    .dataframe thead th {\n",
       "        text-align: right;\n",
       "    }\n",
       "</style>\n",
       "<table border=\"1\" class=\"dataframe\">\n",
       "  <thead>\n",
       "    <tr style=\"text-align: right;\">\n",
       "      <th></th>\n",
       "      <th>index</th>\n",
       "      <th>32</th>\n",
       "    </tr>\n",
       "  </thead>\n",
       "  <tbody>\n",
       "    <tr>\n",
       "      <th>0</th>\n",
       "      <td>2000</td>\n",
       "      <td>31.4</td>\n",
       "    </tr>\n",
       "    <tr>\n",
       "      <th>1</th>\n",
       "      <td>2001</td>\n",
       "      <td>29.1</td>\n",
       "    </tr>\n",
       "    <tr>\n",
       "      <th>2</th>\n",
       "      <td>2002</td>\n",
       "      <td>26.7</td>\n",
       "    </tr>\n",
       "    <tr>\n",
       "      <th>3</th>\n",
       "      <td>2003</td>\n",
       "      <td>27.3</td>\n",
       "    </tr>\n",
       "    <tr>\n",
       "      <th>4</th>\n",
       "      <td>2004</td>\n",
       "      <td>26.4</td>\n",
       "    </tr>\n",
       "    <tr>\n",
       "      <th>5</th>\n",
       "      <td>2006</td>\n",
       "      <td>24.4</td>\n",
       "    </tr>\n",
       "    <tr>\n",
       "      <th>6</th>\n",
       "      <td>2007</td>\n",
       "      <td>24.6</td>\n",
       "    </tr>\n",
       "    <tr>\n",
       "      <th>7</th>\n",
       "      <td>2008</td>\n",
       "      <td>21.8</td>\n",
       "    </tr>\n",
       "    <tr>\n",
       "      <th>8</th>\n",
       "      <td>2009</td>\n",
       "      <td>14.9</td>\n",
       "    </tr>\n",
       "    <tr>\n",
       "      <th>9</th>\n",
       "      <td>2010</td>\n",
       "      <td>15.9</td>\n",
       "    </tr>\n",
       "    <tr>\n",
       "      <th>10</th>\n",
       "      <td>2011</td>\n",
       "      <td>11.9</td>\n",
       "    </tr>\n",
       "    <tr>\n",
       "      <th>11</th>\n",
       "      <td>2012</td>\n",
       "      <td>6.9</td>\n",
       "    </tr>\n",
       "  </tbody>\n",
       "</table>\n",
       "</div>"
      ],
      "text/plain": [
       "   index    32\n",
       "0   2000  31.4\n",
       "1   2001  29.1\n",
       "2   2002  26.7\n",
       "3   2003  27.3\n",
       "4   2004  26.4\n",
       "5   2006  24.4\n",
       "6   2007  24.6\n",
       "7   2008  21.8\n",
       "8   2009  14.9\n",
       "9   2010  15.9\n",
       "10  2011  11.9\n",
       "11  2012   6.9"
      ]
     },
     "execution_count": 23,
     "metadata": {},
     "output_type": "execute_result"
    }
   ],
   "source": [
    "modified = coal_New_York_data_transposed.reset_index()\n",
    "modified"
   ]
  },
  {
   "cell_type": "code",
   "execution_count": 24,
   "metadata": {},
   "outputs": [
    {
     "data": {
      "text/html": [
       "<div>\n",
       "<style scoped>\n",
       "    .dataframe tbody tr th:only-of-type {\n",
       "        vertical-align: middle;\n",
       "    }\n",
       "\n",
       "    .dataframe tbody tr th {\n",
       "        vertical-align: top;\n",
       "    }\n",
       "\n",
       "    .dataframe thead th {\n",
       "        text-align: right;\n",
       "    }\n",
       "</style>\n",
       "<table border=\"1\" class=\"dataframe\">\n",
       "  <thead>\n",
       "    <tr style=\"text-align: right;\">\n",
       "      <th></th>\n",
       "      <th>Year</th>\n",
       "      <th>32</th>\n",
       "    </tr>\n",
       "  </thead>\n",
       "  <tbody>\n",
       "    <tr>\n",
       "      <th>0</th>\n",
       "      <td>2000</td>\n",
       "      <td>31.4</td>\n",
       "    </tr>\n",
       "    <tr>\n",
       "      <th>1</th>\n",
       "      <td>2001</td>\n",
       "      <td>29.1</td>\n",
       "    </tr>\n",
       "    <tr>\n",
       "      <th>2</th>\n",
       "      <td>2002</td>\n",
       "      <td>26.7</td>\n",
       "    </tr>\n",
       "    <tr>\n",
       "      <th>3</th>\n",
       "      <td>2003</td>\n",
       "      <td>27.3</td>\n",
       "    </tr>\n",
       "    <tr>\n",
       "      <th>4</th>\n",
       "      <td>2004</td>\n",
       "      <td>26.4</td>\n",
       "    </tr>\n",
       "    <tr>\n",
       "      <th>5</th>\n",
       "      <td>2006</td>\n",
       "      <td>24.4</td>\n",
       "    </tr>\n",
       "    <tr>\n",
       "      <th>6</th>\n",
       "      <td>2007</td>\n",
       "      <td>24.6</td>\n",
       "    </tr>\n",
       "    <tr>\n",
       "      <th>7</th>\n",
       "      <td>2008</td>\n",
       "      <td>21.8</td>\n",
       "    </tr>\n",
       "    <tr>\n",
       "      <th>8</th>\n",
       "      <td>2009</td>\n",
       "      <td>14.9</td>\n",
       "    </tr>\n",
       "    <tr>\n",
       "      <th>9</th>\n",
       "      <td>2010</td>\n",
       "      <td>15.9</td>\n",
       "    </tr>\n",
       "    <tr>\n",
       "      <th>10</th>\n",
       "      <td>2011</td>\n",
       "      <td>11.9</td>\n",
       "    </tr>\n",
       "    <tr>\n",
       "      <th>11</th>\n",
       "      <td>2012</td>\n",
       "      <td>6.9</td>\n",
       "    </tr>\n",
       "  </tbody>\n",
       "</table>\n",
       "</div>"
      ],
      "text/plain": [
       "    Year    32\n",
       "0   2000  31.4\n",
       "1   2001  29.1\n",
       "2   2002  26.7\n",
       "3   2003  27.3\n",
       "4   2004  26.4\n",
       "5   2006  24.4\n",
       "6   2007  24.6\n",
       "7   2008  21.8\n",
       "8   2009  14.9\n",
       "9   2010  15.9\n",
       "10  2011  11.9\n",
       "11  2012   6.9"
      ]
     },
     "execution_count": 24,
     "metadata": {},
     "output_type": "execute_result"
    }
   ],
   "source": [
    "coal_New_York_data_transposed=modified.rename(columns={\"index\": \"Year\"})\n",
    "coal_New_York_data_transposed"
   ]
  },
  {
   "cell_type": "code",
   "execution_count": 25,
   "metadata": {},
   "outputs": [
    {
     "data": {
      "text/html": [
       "<div>\n",
       "<style scoped>\n",
       "    .dataframe tbody tr th:only-of-type {\n",
       "        vertical-align: middle;\n",
       "    }\n",
       "\n",
       "    .dataframe tbody tr th {\n",
       "        vertical-align: top;\n",
       "    }\n",
       "\n",
       "    .dataframe thead th {\n",
       "        text-align: right;\n",
       "    }\n",
       "</style>\n",
       "<table border=\"1\" class=\"dataframe\">\n",
       "  <thead>\n",
       "    <tr style=\"text-align: right;\">\n",
       "      <th></th>\n",
       "      <th>Year</th>\n",
       "      <th>C02 emission (ppm)</th>\n",
       "    </tr>\n",
       "  </thead>\n",
       "  <tbody>\n",
       "    <tr>\n",
       "      <th>0</th>\n",
       "      <td>2000</td>\n",
       "      <td>31.4</td>\n",
       "    </tr>\n",
       "    <tr>\n",
       "      <th>1</th>\n",
       "      <td>2001</td>\n",
       "      <td>29.1</td>\n",
       "    </tr>\n",
       "    <tr>\n",
       "      <th>2</th>\n",
       "      <td>2002</td>\n",
       "      <td>26.7</td>\n",
       "    </tr>\n",
       "    <tr>\n",
       "      <th>3</th>\n",
       "      <td>2003</td>\n",
       "      <td>27.3</td>\n",
       "    </tr>\n",
       "    <tr>\n",
       "      <th>4</th>\n",
       "      <td>2004</td>\n",
       "      <td>26.4</td>\n",
       "    </tr>\n",
       "    <tr>\n",
       "      <th>5</th>\n",
       "      <td>2006</td>\n",
       "      <td>24.4</td>\n",
       "    </tr>\n",
       "    <tr>\n",
       "      <th>6</th>\n",
       "      <td>2007</td>\n",
       "      <td>24.6</td>\n",
       "    </tr>\n",
       "    <tr>\n",
       "      <th>7</th>\n",
       "      <td>2008</td>\n",
       "      <td>21.8</td>\n",
       "    </tr>\n",
       "    <tr>\n",
       "      <th>8</th>\n",
       "      <td>2009</td>\n",
       "      <td>14.9</td>\n",
       "    </tr>\n",
       "    <tr>\n",
       "      <th>9</th>\n",
       "      <td>2010</td>\n",
       "      <td>15.9</td>\n",
       "    </tr>\n",
       "    <tr>\n",
       "      <th>10</th>\n",
       "      <td>2011</td>\n",
       "      <td>11.9</td>\n",
       "    </tr>\n",
       "    <tr>\n",
       "      <th>11</th>\n",
       "      <td>2012</td>\n",
       "      <td>6.9</td>\n",
       "    </tr>\n",
       "  </tbody>\n",
       "</table>\n",
       "</div>"
      ],
      "text/plain": [
       "    Year C02 emission (ppm)\n",
       "0   2000               31.4\n",
       "1   2001               29.1\n",
       "2   2002               26.7\n",
       "3   2003               27.3\n",
       "4   2004               26.4\n",
       "5   2006               24.4\n",
       "6   2007               24.6\n",
       "7   2008               21.8\n",
       "8   2009               14.9\n",
       "9   2010               15.9\n",
       "10  2011               11.9\n",
       "11  2012                6.9"
      ]
     },
     "execution_count": 25,
     "metadata": {},
     "output_type": "execute_result"
    }
   ],
   "source": [
    "coal_New_York_data_transposed=coal_New_York_data_transposed.rename(columns={32: \"C02 emission (ppm)\"})\n",
    "coal_New_York_data_transposed"
   ]
  },
  {
   "cell_type": "code",
   "execution_count": 26,
   "metadata": {},
   "outputs": [],
   "source": [
    "x_values = coal_New_York_data_transposed[\"Year\"]\n",
    "y_values = coal_New_York_data_transposed[\"C02 emission (ppm)\"]\n"
   ]
  },
  {
   "cell_type": "code",
   "execution_count": 27,
   "metadata": {},
   "outputs": [],
   "source": [
    "x_values=x_values.astype('float')"
   ]
  },
  {
   "cell_type": "code",
   "execution_count": 28,
   "metadata": {},
   "outputs": [],
   "source": [
    "y_values=y_values.astype('float')"
   ]
  },
  {
   "cell_type": "code",
   "execution_count": 29,
   "metadata": {},
   "outputs": [
    {
     "data": {
      "image/png": "[encoded data removed]",
      "text/plain": [
       "<Figure size 1080x360 with 1 Axes>"
      ]
     },
     "metadata": {
      "needs_background": "light"
     },
     "output_type": "display_data"
    }
   ],
   "source": [
    "fig= plt.figure(figsize=(15,5))\n",
    "plt.xlabel(\"Year\")\n",
    "plt.ylabel(\"CO2 emission (ppm)\")\n",
    "plt.title(\"CO2 Emissions For New York from 2000-2012\")\n",
    "plt.grid(True)\n",
    "plt.scatter(x_values,y_values)\n",
    "\n",
    "(slope, intercept, rvalue, pvalue, stderr) = linregress(x_values, y_values)\n",
    "regress_values = x_values * slope + intercept\n",
    "line_eq = \"y = \" + str(round(slope,2)) + \"x + \" + str(round(intercept,2))\n",
    "\n",
    "\n",
    "linregress(x_values,regress_values)\n",
    "plt.plot(x_values, intercept + slope*x_values, 'r', label='fitted line')\n",
    "plt.grid(True)"
   ]
  },
  {
   "cell_type": "markdown",
   "metadata": {},
   "source": [
    "# Plot scatter and regression line for emission (California 2000-2012)"
   ]
  },
  {
   "cell_type": "code",
   "execution_count": 30,
   "metadata": {},
   "outputs": [
    {
     "data": {
      "text/html": [
       "<div>\n",
       "<style scoped>\n",
       "    .dataframe tbody tr th:only-of-type {\n",
       "        vertical-align: middle;\n",
       "    }\n",
       "\n",
       "    .dataframe tbody tr th {\n",
       "        vertical-align: top;\n",
       "    }\n",
       "\n",
       "    .dataframe thead th {\n",
       "        text-align: right;\n",
       "    }\n",
       "</style>\n",
       "<table border=\"1\" class=\"dataframe\">\n",
       "  <thead>\n",
       "    <tr style=\"text-align: right;\">\n",
       "      <th></th>\n",
       "      <th>2000</th>\n",
       "      <th>2001</th>\n",
       "      <th>2002</th>\n",
       "      <th>2003</th>\n",
       "      <th>2004</th>\n",
       "      <th>2006</th>\n",
       "      <th>2007</th>\n",
       "      <th>2008</th>\n",
       "      <th>2009</th>\n",
       "      <th>2010</th>\n",
       "      <th>2011</th>\n",
       "      <th>2012</th>\n",
       "    </tr>\n",
       "  </thead>\n",
       "  <tbody>\n",
       "    <tr>\n",
       "      <th>4</th>\n",
       "      <td>6.6</td>\n",
       "      <td>6.4</td>\n",
       "      <td>6.6</td>\n",
       "      <td>6.6</td>\n",
       "      <td>6.5</td>\n",
       "      <td>6.4</td>\n",
       "      <td>6.3</td>\n",
       "      <td>6</td>\n",
       "      <td>5</td>\n",
       "      <td>5.2</td>\n",
       "      <td>5.2</td>\n",
       "      <td>4.2</td>\n",
       "    </tr>\n",
       "  </tbody>\n",
       "</table>\n",
       "</div>"
      ],
      "text/plain": [
       "  2000 2001 2002 2003 2004 2006 2007 2008 2009 2010 2011 2012\n",
       "4  6.6  6.4  6.6  6.6  6.5  6.4  6.3    6    5  5.2  5.2  4.2"
      ]
     },
     "execution_count": 30,
     "metadata": {},
     "output_type": "execute_result"
    }
   ],
   "source": [
    "#extractiong California data from 2000-2012 \n",
    "coal_California_data=coal_data[(coal_data['State'] == 'California')]\n",
    "coal_California_data=coal_California_data[['2000', '2001', '2002',\"2003\",\"2004\",\"2006\",\"2007\",\"2008\",\"2009\",\"2010\",\"2011\",\"2012\"]]\n",
    "coal_California_data"
   ]
  },
  {
   "cell_type": "code",
   "execution_count": 31,
   "metadata": {},
   "outputs": [
    {
     "data": {
      "image/png": "[encoded data removed]",
      "text/plain": [
       "<Figure size 1080x360 with 1 Axes>"
      ]
     },
     "metadata": {
      "needs_background": "light"
     },
     "output_type": "display_data"
    }
   ],
   "source": [
    "#transpose the California data \n",
    "#modified the index\n",
    "#and rename the column\n",
    "#changing the column type as float\n",
    "coal_California_data_transposed = coal_California_data.T # or df1.transpose()\n",
    "modified1 = coal_California_data_transposed.reset_index()\n",
    "coal_California_data_transposed=modified1.rename(columns={\"index\": \"Year\"})\n",
    "coal_California_data_transposed=coal_California_data_transposed.rename(columns={4: \"C02 emission (ppm)\"})\n",
    "x1_values = coal_California_data_transposed[\"Year\"]\n",
    "y1_values = coal_California_data_transposed[\"C02 emission (ppm)\"]\n",
    "x1_values=x1_values.astype('float')\n",
    "y1_values=y1_values.astype('float')\n",
    "\n",
    "\n",
    "fig= plt.figure(figsize=(15,5))\n",
    "plt.xlabel(\"Year\")\n",
    "plt.ylabel(\"CO2 emission (ppm)\")\n",
    "plt.title(\"CO2 Emissions For California from 2000-2012\")\n",
    "plt.grid(True)\n",
    "plt.scatter(x1_values,y1_values)\n",
    "\n",
    "(slope, intercept, rvalue, pvalue, stderr) = linregress(x1_values, y1_values)\n",
    "regress_values = x1_values * slope + intercept\n",
    "line_eq = \"y = \" + str(round(slope,2)) + \"x + \" + str(round(intercept,2))\n",
    "\n",
    "\n",
    "linregress(x1_values,regress_values)\n",
    "plt.plot(x1_values, intercept + slope*x_values, 'r', label='fitted line')\n",
    "plt.grid(True)\n"
   ]
  },
  {
   "cell_type": "markdown",
   "metadata": {},
   "source": [
    "# Plot scatter and regression line for emission (Illinois 2000-2012)"
   ]
  },
  {
   "cell_type": "code",
   "execution_count": 32,
   "metadata": {},
   "outputs": [
    {
     "data": {
      "text/html": [
       "<div>\n",
       "<style scoped>\n",
       "    .dataframe tbody tr th:only-of-type {\n",
       "        vertical-align: middle;\n",
       "    }\n",
       "\n",
       "    .dataframe tbody tr th {\n",
       "        vertical-align: top;\n",
       "    }\n",
       "\n",
       "    .dataframe thead th {\n",
       "        text-align: right;\n",
       "    }\n",
       "</style>\n",
       "<table border=\"1\" class=\"dataframe\">\n",
       "  <thead>\n",
       "    <tr style=\"text-align: right;\">\n",
       "      <th></th>\n",
       "      <th>2000</th>\n",
       "      <th>2001</th>\n",
       "      <th>2002</th>\n",
       "      <th>2003</th>\n",
       "      <th>2004</th>\n",
       "      <th>2006</th>\n",
       "      <th>2007</th>\n",
       "      <th>2008</th>\n",
       "      <th>2009</th>\n",
       "      <th>2010</th>\n",
       "      <th>2011</th>\n",
       "      <th>2012</th>\n",
       "    </tr>\n",
       "  </thead>\n",
       "  <tbody>\n",
       "    <tr>\n",
       "      <th>13</th>\n",
       "      <td>96.7</td>\n",
       "      <td>93.6</td>\n",
       "      <td>94.1</td>\n",
       "      <td>96.4</td>\n",
       "      <td>102.1</td>\n",
       "      <td>99.7</td>\n",
       "      <td>104.1</td>\n",
       "      <td>105.3</td>\n",
       "      <td>96.9</td>\n",
       "      <td>102</td>\n",
       "      <td>100.3</td>\n",
       "      <td>92.4</td>\n",
       "    </tr>\n",
       "  </tbody>\n",
       "</table>\n",
       "</div>"
      ],
      "text/plain": [
       "    2000  2001  2002  2003   2004  2006   2007   2008  2009 2010   2011  2012\n",
       "13  96.7  93.6  94.1  96.4  102.1  99.7  104.1  105.3  96.9  102  100.3  92.4"
      ]
     },
     "execution_count": 32,
     "metadata": {},
     "output_type": "execute_result"
    }
   ],
   "source": [
    "#extractiong Illinois data from 2000-2012 \n",
    "coal_Illinois_data=coal_data[(coal_data['State'] == 'Illinois')]\n",
    "coal_Illinois_data=coal_Illinois_data[['2000', '2001', '2002',\"2003\",\"2004\",\"2006\",\"2007\",\"2008\",\"2009\",\"2010\",\"2011\",\"2012\"]]\n",
    "coal_Illinois_data"
   ]
  },
  {
   "cell_type": "code",
   "execution_count": 33,
   "metadata": {},
   "outputs": [
    {
     "data": {
      "image/png": "[encoded data removed]",
      "text/plain": [
       "<Figure size 1080x360 with 1 Axes>"
      ]
     },
     "metadata": {
      "needs_background": "light"
     },
     "output_type": "display_data"
    }
   ],
   "source": [
    "#transpose the California data \n",
    "#modified the index\n",
    "#and rename the column\n",
    "#changing the column type as float\n",
    "coal_Illinois_data_transposed = coal_Illinois_data.T # or df1.transpose()\n",
    "modified2 = coal_Illinois_data_transposed.reset_index()\n",
    "coal_Illinois_data_transposed=modified2.rename(columns={\"index\": \"Year\"})\n",
    "coal_Illinois_data_transposed=coal_Illinois_data_transposed.rename(columns={13: \"C02 emission (ppm)\"})\n",
    "x2_values = coal_Illinois_data_transposed[\"Year\"]\n",
    "y2_values = coal_Illinois_data_transposed[\"C02 emission (ppm)\"]\n",
    "x2_values=x2_values.astype('float')\n",
    "y2_values=y2_values.astype('float')\n",
    "\n",
    "\n",
    "fig= plt.figure(figsize=(15,5))\n",
    "plt.xlabel(\"Year\")\n",
    "plt.ylabel(\"CO2 emission (ppm)\")\n",
    "plt.title(\"CO2 Emissions For California from 2000-2012\")\n",
    "plt.grid(True)\n",
    "plt.scatter(x2_values,y2_values)\n",
    "\n",
    "(slope, intercept, rvalue, pvalue, stderr) = linregress(x2_values, y2_values)\n",
    "regress_values = x2_values * slope + intercept\n",
    "line_eq = \"y = \" + str(round(slope,2)) + \"x + \" + str(round(intercept,2))\n",
    "\n",
    "\n",
    "linregress(x2_values,regress_values)\n",
    "plt.plot(x2_values, intercept + slope*x_values, 'r', label='fitted line')\n",
    "plt.annotate(line_eq,(2000,67),fontsize=15,color=\"red\")\n",
    "plt.grid(True)\n"
   ]
  },
  {
   "cell_type": "markdown",
   "metadata": {},
   "source": [
    "# Table percentage for ILLINOIS"
   ]
  },
  {
   "cell_type": "code",
   "execution_count": 37,
   "metadata": {},
   "outputs": [
    {
     "data": {
      "image/png": "[encoded data removed]",
      "text/plain": [
       "<Figure size 432x288 with 1 Axes>"
      ]
     },
     "metadata": {
      "needs_background": "light"
     },
     "output_type": "display_data"
    }
   ],
   "source": [
    "coal_Illinois_data_transposed[\"AverageTemperature_PERCENTAGE_CHANGE\"]=(y2_values.pct_change())*100\n",
    "Illinois = coal_Illinois_data_transposed[[\"Year\",\"AverageTemperature_PERCENTAGE_CHANGE\"]]\n",
    "plt.bar(Illinois[\"Year\"],  Illinois[\"AverageTemperature_PERCENTAGE_CHANGE\"])\n",
    "plt.title('% change of Avg Temp of Illinois')\n",
    "plt.xlabel('YEAR')\n",
    "plt.ylabel('%_CHANGE OF Emission ')\n",
    "plt.show()"
   ]
  },
  {
   "cell_type": "markdown",
   "metadata": {},
   "source": [
    "## Table percentage for New York"
   ]
  },
  {
   "cell_type": "code",
   "execution_count": 38,
   "metadata": {},
   "outputs": [
    {
     "data": {
      "image/png": "[encoded data removed]",
      "text/plain": [
       "<Figure size 432x288 with 1 Axes>"
      ]
     },
     "metadata": {
      "needs_background": "light"
     },
     "output_type": "display_data"
    }
   ],
   "source": [
    "coal_New_York_data_transposed[\"AverageTemperature_PERCENTAGE_CHANGE\"]=(y_values.pct_change())*100\n",
    "New_York = coal_New_York_data_transposed[[\"Year\",\"AverageTemperature_PERCENTAGE_CHANGE\"]]\n",
    "plt.bar(New_York[\"Year\"],  New_York[\"AverageTemperature_PERCENTAGE_CHANGE\"])\n",
    "plt.title('% change of Avg Temp of New_York')\n",
    "plt.xlabel('YEAR')\n",
    "plt.ylabel('%_CHANGE OF Emission ')\n",
    "plt.show()"
   ]
  },
  {
   "cell_type": "markdown",
   "metadata": {},
   "source": [
    "## Table percentage for California"
   ]
  },
  {
   "cell_type": "code",
   "execution_count": 39,
   "metadata": {},
   "outputs": [
    {
     "data": {
      "image/png": "[encoded data removed]",
      "text/plain": [
       "<Figure size 432x288 with 1 Axes>"
      ]
     },
     "metadata": {
      "needs_background": "light"
     },
     "output_type": "display_data"
    }
   ],
   "source": [
    "coal_California_data_transposed[\"AverageTemperature_PERCENTAGE_CHANGE\"]=(y1_values.pct_change())*100\n",
    "California = coal_California_data_transposed[[\"Year\",\"AverageTemperature_PERCENTAGE_CHANGE\"]]\n",
    "plt.bar(California[\"Year\"],  California[\"AverageTemperature_PERCENTAGE_CHANGE\"])\n",
    "plt.title('% change of Avg Temp of California')\n",
    "plt.xlabel('YEAR')\n",
    "plt.ylabel('%_CHANGE OF Emission ')\n",
    "plt.show()"
   ]
  }
 ],
 "metadata": {
  "kernelspec": {
   "display_name": "Python 3",
   "language": "python",
   "name": "python3"
  },
  "language_info": {
   "codemirror_mode": {
    "name": "ipython",
    "version": 3
   },
   "file_extension": ".py",
   "mimetype": "text/x-python",
   "name": "python",
   "nbconvert_exporter": "python",
   "pygments_lexer": "ipython3",
   "version": "3.7.4"
  }
 },
 "nbformat": 4,
 "nbformat_minor": 2
}
