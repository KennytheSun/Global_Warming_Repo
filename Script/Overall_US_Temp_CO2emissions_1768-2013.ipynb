{
 "cells": [
  {
   "cell_type": "code",
   "execution_count": 1,
   "metadata": {},
   "outputs": [
    {
     "data": {
      "text/html": [
       "<div>\n",
       "<style scoped>\n",
       "    .dataframe tbody tr th:only-of-type {\n",
       "        vertical-align: middle;\n",
       "    }\n",
       "\n",
       "    .dataframe tbody tr th {\n",
       "        vertical-align: top;\n",
       "    }\n",
       "\n",
       "    .dataframe thead th {\n",
       "        text-align: right;\n",
       "    }\n",
       "</style>\n",
       "<table border=\"1\" class=\"dataframe\">\n",
       "  <thead>\n",
       "    <tr style=\"text-align: right;\">\n",
       "      <th></th>\n",
       "      <th>dt</th>\n",
       "      <th>AverageTemperature</th>\n",
       "      <th>AverageTemperatureUncertainty</th>\n",
       "      <th>Country</th>\n",
       "    </tr>\n",
       "  </thead>\n",
       "  <tbody>\n",
       "    <tr>\n",
       "      <th>554880</th>\n",
       "      <td>1768-09-01</td>\n",
       "      <td>15.420</td>\n",
       "      <td>2.880</td>\n",
       "      <td>United States</td>\n",
       "    </tr>\n",
       "    <tr>\n",
       "      <th>554881</th>\n",
       "      <td>1768-10-01</td>\n",
       "      <td>8.162</td>\n",
       "      <td>3.386</td>\n",
       "      <td>United States</td>\n",
       "    </tr>\n",
       "    <tr>\n",
       "      <th>554882</th>\n",
       "      <td>1768-11-01</td>\n",
       "      <td>1.591</td>\n",
       "      <td>3.783</td>\n",
       "      <td>United States</td>\n",
       "    </tr>\n",
       "    <tr>\n",
       "      <th>554883</th>\n",
       "      <td>1768-12-01</td>\n",
       "      <td>-2.882</td>\n",
       "      <td>4.979</td>\n",
       "      <td>United States</td>\n",
       "    </tr>\n",
       "    <tr>\n",
       "      <th>554884</th>\n",
       "      <td>1769-01-01</td>\n",
       "      <td>-3.952</td>\n",
       "      <td>4.856</td>\n",
       "      <td>United States</td>\n",
       "    </tr>\n",
       "  </tbody>\n",
       "</table>\n",
       "</div>"
      ],
      "text/plain": [
       "                dt  AverageTemperature  AverageTemperatureUncertainty  \\\n",
       "554880  1768-09-01              15.420                          2.880   \n",
       "554881  1768-10-01               8.162                          3.386   \n",
       "554882  1768-11-01               1.591                          3.783   \n",
       "554883  1768-12-01              -2.882                          4.979   \n",
       "554884  1769-01-01              -3.952                          4.856   \n",
       "\n",
       "              Country  \n",
       "554880  United States  \n",
       "554881  United States  \n",
       "554882  United States  \n",
       "554883  United States  \n",
       "554884  United States  "
      ]
     },
     "execution_count": 1,
     "metadata": {},
     "output_type": "execute_result"
    }
   ],
   "source": [
    "# Are we able to see any patterns between co2 emissions and summer temperature over a period of 13 years? 2000-2013\n",
    "#Growing up I remember the summer months of june were always the hottest, and fall weather was always cooler. Over the past several years I've noticed we've been experiencing more indian summers. Can we find data that shows this?Can we see an effect with c02 emissions? \n",
    "\n",
    "#create dependencies\n",
    "import pandas as pd\n",
    "import matplotlib.pyplot as plt\n",
    "import numpy as numpy\n",
    "from scipy.stats import linregress\n",
    "\n",
    "#import csv files\n",
    "\n",
    "global_emissions = \"..\\Resources\\GlobalEmissions1751_2014.csv\"\n",
    "global_temp = \"..\\Resources\\GlobalLandTemperaturesByCountry.csv\"\n",
    "\n",
    "#read csv into pandas\n",
    "global_emissions = pd.read_csv(global_emissions) \n",
    "global_temp = pd.read_csv(global_temp)\n",
    "\n",
    "#turn csv into a dataframe\n",
    "global_temp_df = pd.DataFrame(global_temp)\n",
    "global_co2 = pd.DataFrame(global_emissions)\n",
    "\n",
    "#filter the info for only data on the United States\n",
    "US_temp = global_temp_df.loc[global_temp_df[\"Country\"]==\"United States\"]\n",
    "\n",
    "US_temp.head()"
   ]
  },
  {
   "cell_type": "code",
   "execution_count": 2,
   "metadata": {},
   "outputs": [
    {
     "name": "stdout",
     "output_type": "stream",
     "text": [
      "                dt  AverageTemperature  AverageTemperatureUncertainty  \\\n",
      "554880  1768-09-01              15.420                          2.880   \n",
      "554881  1768-10-01               8.162                          3.386   \n",
      "554882  1768-11-01               1.591                          3.783   \n",
      "554883  1768-12-01              -2.882                          4.979   \n",
      "554884  1769-01-01              -3.952                          4.856   \n",
      "554885  1769-02-01              -2.684                          3.311   \n",
      "554886  1769-03-01               1.828                          3.884   \n",
      "554887  1769-04-01               8.843                          3.482   \n",
      "554888  1769-05-01              15.724                          4.795   \n",
      "554889  1769-06-01              20.933                          2.613   \n",
      "554890  1769-07-01              22.093                          3.277   \n",
      "554891  1769-08-01              20.787                          3.329   \n",
      "554892  1769-09-01                 NaN                            NaN   \n",
      "554893  1769-10-01                 NaN                            NaN   \n",
      "554894  1769-11-01                 NaN                            NaN   \n",
      "554895  1769-12-01                 NaN                            NaN   \n",
      "554896  1770-01-01                 NaN                            NaN   \n",
      "554897  1770-02-01                 NaN                            NaN   \n",
      "554898  1770-03-01                 NaN                            NaN   \n",
      "554899  1770-04-01                 NaN                            NaN   \n",
      "554900  1770-05-01                 NaN                            NaN   \n",
      "554901  1770-06-01                 NaN                            NaN   \n",
      "554902  1770-07-01                 NaN                            NaN   \n",
      "554903  1770-08-01                 NaN                            NaN   \n",
      "554904  1770-09-01                 NaN                            NaN   \n",
      "554905  1770-10-01                 NaN                            NaN   \n",
      "554906  1770-11-01                 NaN                            NaN   \n",
      "554907  1770-12-01                 NaN                            NaN   \n",
      "554908  1771-01-01                 NaN                            NaN   \n",
      "554909  1771-02-01                 NaN                            NaN   \n",
      "...            ...                 ...                            ...   \n",
      "557791  2011-04-01               8.582                          0.158   \n",
      "557792  2011-05-01              13.759                          0.183   \n",
      "557793  2011-06-01              19.578                          0.251   \n",
      "557794  2011-07-01              22.722                          0.220   \n",
      "557795  2011-08-01              21.915                          0.132   \n",
      "557796  2011-09-01              17.148                          0.110   \n",
      "557797  2011-10-01              10.490                          0.134   \n",
      "557798  2011-11-01               2.966                          0.186   \n",
      "557799  2011-12-01              -0.635                          0.253   \n",
      "557800  2012-01-01              -2.268                          0.232   \n",
      "557801  2012-02-01               0.582                          0.182   \n",
      "557802  2012-03-01               6.024                          0.138   \n",
      "557803  2012-04-01              10.196                          0.278   \n",
      "557804  2012-05-01              15.422                          0.196   \n",
      "557805  2012-06-01              19.954                          0.273   \n",
      "557806  2012-07-01              23.008                          0.278   \n",
      "557807  2012-08-01              21.422                          0.251   \n",
      "557808  2012-09-01              17.036                          0.185   \n",
      "557809  2012-10-01               9.688                          0.225   \n",
      "557810  2012-11-01               3.330                          0.120   \n",
      "557811  2012-12-01              -1.261                          0.228   \n",
      "557812  2013-01-01              -2.155                          0.185   \n",
      "557813  2013-02-01              -1.216                          0.216   \n",
      "557814  2013-03-01               2.289                          0.222   \n",
      "557815  2013-04-01               6.970                          0.221   \n",
      "557816  2013-05-01              14.073                          0.178   \n",
      "557817  2013-06-01              20.198                          0.236   \n",
      "557818  2013-07-01              22.074                          0.152   \n",
      "557819  2013-08-01              21.168                          0.249   \n",
      "557820  2013-09-01              18.273                          1.210   \n",
      "\n",
      "              Country  \n",
      "554880  United States  \n",
      "554881  United States  \n",
      "554882  United States  \n",
      "554883  United States  \n",
      "554884  United States  \n",
      "554885  United States  \n",
      "554886  United States  \n",
      "554887  United States  \n",
      "554888  United States  \n",
      "554889  United States  \n",
      "554890  United States  \n",
      "554891  United States  \n",
      "554892  United States  \n",
      "554893  United States  \n",
      "554894  United States  \n",
      "554895  United States  \n",
      "554896  United States  \n",
      "554897  United States  \n",
      "554898  United States  \n",
      "554899  United States  \n",
      "554900  United States  \n",
      "554901  United States  \n",
      "554902  United States  \n",
      "554903  United States  \n",
      "554904  United States  \n",
      "554905  United States  \n",
      "554906  United States  \n",
      "554907  United States  \n",
      "554908  United States  \n",
      "554909  United States  \n",
      "...               ...  \n",
      "557791  United States  \n",
      "557792  United States  \n",
      "557793  United States  \n",
      "557794  United States  \n",
      "557795  United States  \n",
      "557796  United States  \n",
      "557797  United States  \n",
      "557798  United States  \n",
      "557799  United States  \n",
      "557800  United States  \n",
      "557801  United States  \n",
      "557802  United States  \n",
      "557803  United States  \n",
      "557804  United States  \n",
      "557805  United States  \n",
      "557806  United States  \n",
      "557807  United States  \n",
      "557808  United States  \n",
      "557809  United States  \n",
      "557810  United States  \n",
      "557811  United States  \n",
      "557812  United States  \n",
      "557813  United States  \n",
      "557814  United States  \n",
      "557815  United States  \n",
      "557816  United States  \n",
      "557817  United States  \n",
      "557818  United States  \n",
      "557819  United States  \n",
      "557820  United States  \n",
      "\n",
      "[2941 rows x 4 columns]\n"
     ]
    }
   ],
   "source": [
    "#Figure out what we're working with. Only print first city and see how many years of data there are.\n",
    "\n",
    "print(US_temp)"
   ]
  },
  {
   "cell_type": "code",
   "execution_count": 3,
   "metadata": {},
   "outputs": [
    {
     "name": "stdout",
     "output_type": "stream",
     "text": [
      "Looking at the data above we can see that this data has country temp data starting from around 1768 to 2013\n"
     ]
    }
   ],
   "source": [
    "print(\"Looking at the data above we can see that this data has country temp data starting from around 1768 to 2013\")"
   ]
  },
  {
   "cell_type": "code",
   "execution_count": 4,
   "metadata": {},
   "outputs": [],
   "source": [
    "#Begin Datacleaning\n",
    "\n"
   ]
  },
  {
   "cell_type": "code",
   "execution_count": null,
   "metadata": {},
   "outputs": [],
   "source": []
  },
  {
   "cell_type": "code",
   "execution_count": null,
   "metadata": {},
   "outputs": [],
   "source": []
  },
  {
   "cell_type": "code",
   "execution_count": 5,
   "metadata": {},
   "outputs": [
    {
     "data": {
      "text/html": [
       "<div>\n",
       "<style scoped>\n",
       "    .dataframe tbody tr th:only-of-type {\n",
       "        vertical-align: middle;\n",
       "    }\n",
       "\n",
       "    .dataframe tbody tr th {\n",
       "        vertical-align: top;\n",
       "    }\n",
       "\n",
       "    .dataframe thead th {\n",
       "        text-align: right;\n",
       "    }\n",
       "</style>\n",
       "<table border=\"1\" class=\"dataframe\">\n",
       "  <thead>\n",
       "    <tr style=\"text-align: right;\">\n",
       "      <th></th>\n",
       "      <th>dt</th>\n",
       "      <th>AverageTemperature</th>\n",
       "      <th>AverageTemperatureUncertainty</th>\n",
       "      <th>Country</th>\n",
       "      <th>Year</th>\n",
       "    </tr>\n",
       "  </thead>\n",
       "  <tbody>\n",
       "    <tr>\n",
       "      <th>0</th>\n",
       "      <td>1743-11-01</td>\n",
       "      <td>4.384</td>\n",
       "      <td>2.294</td>\n",
       "      <td>Åland</td>\n",
       "      <td>NaN</td>\n",
       "    </tr>\n",
       "    <tr>\n",
       "      <th>1</th>\n",
       "      <td>1743-12-01</td>\n",
       "      <td>NaN</td>\n",
       "      <td>NaN</td>\n",
       "      <td>Åland</td>\n",
       "      <td>NaN</td>\n",
       "    </tr>\n",
       "    <tr>\n",
       "      <th>2</th>\n",
       "      <td>1744-01-01</td>\n",
       "      <td>NaN</td>\n",
       "      <td>NaN</td>\n",
       "      <td>Åland</td>\n",
       "      <td>NaN</td>\n",
       "    </tr>\n",
       "    <tr>\n",
       "      <th>3</th>\n",
       "      <td>1744-02-01</td>\n",
       "      <td>NaN</td>\n",
       "      <td>NaN</td>\n",
       "      <td>Åland</td>\n",
       "      <td>NaN</td>\n",
       "    </tr>\n",
       "    <tr>\n",
       "      <th>4</th>\n",
       "      <td>1744-03-01</td>\n",
       "      <td>NaN</td>\n",
       "      <td>NaN</td>\n",
       "      <td>Åland</td>\n",
       "      <td>NaN</td>\n",
       "    </tr>\n",
       "  </tbody>\n",
       "</table>\n",
       "</div>"
      ],
      "text/plain": [
       "           dt  AverageTemperature  AverageTemperatureUncertainty Country Year\n",
       "0  1743-11-01               4.384                          2.294   Åland  NaN\n",
       "1  1743-12-01                 NaN                            NaN   Åland  NaN\n",
       "2  1744-01-01                 NaN                            NaN   Åland  NaN\n",
       "3  1744-02-01                 NaN                            NaN   Åland  NaN\n",
       "4  1744-03-01                 NaN                            NaN   Åland  NaN"
      ]
     },
     "execution_count": 5,
     "metadata": {},
     "output_type": "execute_result"
    }
   ],
   "source": [
    "#create a for loop to iterate over the years\n",
    "start_year = 1750\n",
    "end_year = 2013\n",
    "\n",
    "# #to input the incremental years from 1849 to 2013,created a for loop  \n",
    "# Summer month is June so using the string 6 on date\n",
    "for year in range(start_year, end_year + 1): \n",
    "    global_temp_df.loc[global_temp_df['dt'].str.contains(str(year)+ \"-06\"), 'Year'] = str(year)\n",
    "   # temp_df.loc[temp_df['dt'].str.contains(str(year)), 'Year'] = str(year)\n",
    "    \n",
    "global_temp_df.head()"
   ]
  },
  {
   "cell_type": "code",
   "execution_count": 6,
   "metadata": {},
   "outputs": [],
   "source": [
    "global_temp_df = global_temp_df.dropna(how=\"any\")"
   ]
  },
  {
   "cell_type": "code",
   "execution_count": 7,
   "metadata": {},
   "outputs": [
    {
     "name": "stdout",
     "output_type": "stream",
     "text": [
      "                dt  AverageTemperature  AverageTemperatureUncertainty  \\\n",
      "554889  1769-06-01              20.933                          2.613   \n",
      "554961  1775-06-01              17.684                          3.441   \n",
      "554973  1776-06-01              19.836                          2.202   \n",
      "554985  1777-06-01              17.463                          2.314   \n",
      "554997  1778-06-01              16.855                          3.351   \n",
      "555045  1782-06-01              19.578                          2.386   \n",
      "555213  1796-06-01              19.877                          2.945   \n",
      "555225  1797-06-01              19.247                          2.098   \n",
      "555405  1812-06-01              17.495                          1.717   \n",
      "555417  1813-06-01              18.636                          2.494   \n",
      "555441  1815-06-01              16.720                          2.291   \n",
      "555453  1816-06-01              17.105                          1.985   \n",
      "555465  1817-06-01              16.718                          1.925   \n",
      "555477  1818-06-01              19.965                          2.660   \n",
      "555501  1820-06-01              18.656                          1.683   \n",
      "555513  1821-06-01              18.779                          2.524   \n",
      "555525  1822-06-01              18.640                          1.710   \n",
      "555537  1823-06-01              19.397                          1.902   \n",
      "555549  1824-06-01              18.610                          2.314   \n",
      "555561  1825-06-01              19.291                          1.478   \n",
      "555573  1826-06-01              18.736                          2.415   \n",
      "555585  1827-06-01              18.980                          2.205   \n",
      "555597  1828-06-01              20.228                          2.030   \n",
      "555609  1829-06-01              19.282                          1.774   \n",
      "555621  1830-06-01              18.292                          2.463   \n",
      "555633  1831-06-01              18.701                          2.126   \n",
      "555645  1832-06-01              18.596                          1.896   \n",
      "555657  1833-06-01              18.105                          1.728   \n",
      "555669  1834-06-01              18.164                          2.448   \n",
      "555681  1835-06-01              18.038                          1.982   \n",
      "...            ...                 ...                            ...   \n",
      "557469  1984-06-01              19.035                          0.125   \n",
      "557481  1985-06-01              18.462                          0.308   \n",
      "557493  1986-06-01              19.789                          0.201   \n",
      "557505  1987-06-01              19.630                          0.172   \n",
      "557517  1988-06-01              20.021                          0.245   \n",
      "557529  1989-06-01              18.698                          0.181   \n",
      "557541  1990-06-01              19.780                          0.255   \n",
      "557553  1991-06-01              19.335                          0.087   \n",
      "557565  1992-06-01              18.477                          0.227   \n",
      "557577  1993-06-01              18.459                          0.119   \n",
      "557589  1994-06-01              19.964                          0.209   \n",
      "557601  1995-06-01              18.469                          0.162   \n",
      "557613  1996-06-01              19.513                          0.154   \n",
      "557625  1997-06-01              19.042                          0.159   \n",
      "557637  1998-06-01              18.771                          0.157   \n",
      "557649  1999-06-01              18.912                          0.125   \n",
      "557661  2000-06-01              19.294                          0.160   \n",
      "557673  2001-06-01              19.357                          0.175   \n",
      "557685  2002-06-01              20.052                          0.093   \n",
      "557697  2003-06-01              18.871                          0.267   \n",
      "557709  2004-06-01              19.228                          0.279   \n",
      "557721  2005-06-01              19.511                          0.134   \n",
      "557733  2006-06-01              19.933                          0.172   \n",
      "557745  2007-06-01              19.705                          0.162   \n",
      "557757  2008-06-01              19.381                          0.181   \n",
      "557769  2009-06-01              18.962                          0.146   \n",
      "557781  2010-06-01              19.885                          0.182   \n",
      "557793  2011-06-01              19.578                          0.251   \n",
      "557805  2012-06-01              19.954                          0.273   \n",
      "557817  2013-06-01              20.198                          0.236   \n",
      "\n",
      "              Country  Year  \n",
      "554889  United States  1769  \n",
      "554961  United States  1775  \n",
      "554973  United States  1776  \n",
      "554985  United States  1777  \n",
      "554997  United States  1778  \n",
      "555045  United States  1782  \n",
      "555213  United States  1796  \n",
      "555225  United States  1797  \n",
      "555405  United States  1812  \n",
      "555417  United States  1813  \n",
      "555441  United States  1815  \n",
      "555453  United States  1816  \n",
      "555465  United States  1817  \n",
      "555477  United States  1818  \n",
      "555501  United States  1820  \n",
      "555513  United States  1821  \n",
      "555525  United States  1822  \n",
      "555537  United States  1823  \n",
      "555549  United States  1824  \n",
      "555561  United States  1825  \n",
      "555573  United States  1826  \n",
      "555585  United States  1827  \n",
      "555597  United States  1828  \n",
      "555609  United States  1829  \n",
      "555621  United States  1830  \n",
      "555633  United States  1831  \n",
      "555645  United States  1832  \n",
      "555657  United States  1833  \n",
      "555669  United States  1834  \n",
      "555681  United States  1835  \n",
      "...               ...   ...  \n",
      "557469  United States  1984  \n",
      "557481  United States  1985  \n",
      "557493  United States  1986  \n",
      "557505  United States  1987  \n",
      "557517  United States  1988  \n",
      "557529  United States  1989  \n",
      "557541  United States  1990  \n",
      "557553  United States  1991  \n",
      "557565  United States  1992  \n",
      "557577  United States  1993  \n",
      "557589  United States  1994  \n",
      "557601  United States  1995  \n",
      "557613  United States  1996  \n",
      "557625  United States  1997  \n",
      "557637  United States  1998  \n",
      "557649  United States  1999  \n",
      "557661  United States  2000  \n",
      "557673  United States  2001  \n",
      "557685  United States  2002  \n",
      "557697  United States  2003  \n",
      "557709  United States  2004  \n",
      "557721  United States  2005  \n",
      "557733  United States  2006  \n",
      "557745  United States  2007  \n",
      "557757  United States  2008  \n",
      "557769  United States  2009  \n",
      "557781  United States  2010  \n",
      "557793  United States  2011  \n",
      "557805  United States  2012  \n",
      "557817  United States  2013  \n",
      "\n",
      "[208 rows x 5 columns]\n"
     ]
    }
   ],
   "source": [
    "us_states_df = global_temp_df.loc[global_temp_df[\"Country\"] == \"United States\"]\n",
    "print(us_states_df)"
   ]
  },
  {
   "cell_type": "code",
   "execution_count": 8,
   "metadata": {},
   "outputs": [
    {
     "name": "stderr",
     "output_type": "stream",
     "text": [
      "C:\\Users\\Mikey\\Anaconda3\\lib\\site-packages\\ipykernel_launcher.py:1: SettingWithCopyWarning: \n",
      "A value is trying to be set on a copy of a slice from a DataFrame.\n",
      "Try using .loc[row_indexer,col_indexer] = value instead\n",
      "\n",
      "See the caveats in the documentation: http://pandas.pydata.org/pandas-docs/stable/indexing.html#indexing-view-versus-copy\n",
      "  \"\"\"Entry point for launching an IPython kernel.\n"
     ]
    },
    {
     "data": {
      "text/html": [
       "<div>\n",
       "<style scoped>\n",
       "    .dataframe tbody tr th:only-of-type {\n",
       "        vertical-align: middle;\n",
       "    }\n",
       "\n",
       "    .dataframe tbody tr th {\n",
       "        vertical-align: top;\n",
       "    }\n",
       "\n",
       "    .dataframe thead th {\n",
       "        text-align: right;\n",
       "    }\n",
       "</style>\n",
       "<table border=\"1\" class=\"dataframe\">\n",
       "  <thead>\n",
       "    <tr style=\"text-align: right;\">\n",
       "      <th></th>\n",
       "      <th>AverageTemperature</th>\n",
       "      <th>Country</th>\n",
       "      <th>Year</th>\n",
       "    </tr>\n",
       "  </thead>\n",
       "  <tbody>\n",
       "    <tr>\n",
       "      <th>554889</th>\n",
       "      <td>69.6794</td>\n",
       "      <td>United States</td>\n",
       "      <td>1769</td>\n",
       "    </tr>\n",
       "    <tr>\n",
       "      <th>554961</th>\n",
       "      <td>63.8312</td>\n",
       "      <td>United States</td>\n",
       "      <td>1775</td>\n",
       "    </tr>\n",
       "    <tr>\n",
       "      <th>554973</th>\n",
       "      <td>67.7048</td>\n",
       "      <td>United States</td>\n",
       "      <td>1776</td>\n",
       "    </tr>\n",
       "    <tr>\n",
       "      <th>554985</th>\n",
       "      <td>63.4334</td>\n",
       "      <td>United States</td>\n",
       "      <td>1777</td>\n",
       "    </tr>\n",
       "    <tr>\n",
       "      <th>554997</th>\n",
       "      <td>62.3390</td>\n",
       "      <td>United States</td>\n",
       "      <td>1778</td>\n",
       "    </tr>\n",
       "  </tbody>\n",
       "</table>\n",
       "</div>"
      ],
      "text/plain": [
       "        AverageTemperature        Country  Year\n",
       "554889             69.6794  United States  1769\n",
       "554961             63.8312  United States  1775\n",
       "554973             67.7048  United States  1776\n",
       "554985             63.4334  United States  1777\n",
       "554997             62.3390  United States  1778"
      ]
     },
     "execution_count": 8,
     "metadata": {},
     "output_type": "execute_result"
    }
   ],
   "source": [
    "us_states_df[\"AverageTemperature\"] =(us_states_df[\"AverageTemperature\"]*1.8+32)\n",
    "us_states_df = us_states_df[[\"AverageTemperature\",\"Country\",\"Year\"]]\n",
    "us_states_df.head()"
   ]
  },
  {
   "cell_type": "code",
   "execution_count": null,
   "metadata": {},
   "outputs": [],
   "source": []
  },
  {
   "cell_type": "code",
   "execution_count": 9,
   "metadata": {},
   "outputs": [
    {
     "data": {
      "text/plain": [
       "Text(1850, 62, 'y = 0.01x + 56.16')"
      ]
     },
     "execution_count": 9,
     "metadata": {},
     "output_type": "execute_result"
    },
    {
     "data": {
      "image/png": "[encoded data removed]",
      "text/plain": [
       "<Figure size 432x288 with 1 Axes>"
      ]
     },
     "metadata": {
      "needs_background": "light"
     },
     "output_type": "display_data"
    }
   ],
   "source": [
    "x_values = us_states_df[\"Year\"].astype('int64')\n",
    "y_values = us_states_df[\"AverageTemperature\"]\n",
    "\n",
    "\n",
    "plt.xlabel(\"Year\")\n",
    "plt.ylabel(\"Temperature (F)\")\n",
    "plt.title(\"Summer Temperature of the US overall from 1768 - 2013\")\n",
    "\n",
    "plt.scatter(x_values,y_values)\n",
    "(slope, intercept, rvalue, pvalue, stderr) = linregress(x_values, y_values)\n",
    "regress_values = x_values * slope + intercept\n",
    "line_eq = \"y = \" + str(round(slope,2)) + \"x + \" + str(round(intercept,2))\n",
    "\n",
    "\n",
    "linregress(x_values,regress_values)\n",
    "plt.plot(x_values, intercept + slope*x_values, 'r', label='fitted line')\n",
    "plt.annotate(line_eq,(1850,62),fontsize=15,color=\"red\")\n",
    "\n",
    "#fig= plt.figure(figsize=(100,20))\n",
    "# plt.show()\n"
   ]
  },
  {
   "cell_type": "code",
   "execution_count": null,
   "metadata": {},
   "outputs": [],
   "source": []
  },
  {
   "cell_type": "code",
   "execution_count": null,
   "metadata": {},
   "outputs": [],
   "source": []
  },
  {
   "cell_type": "code",
   "execution_count": 10,
   "metadata": {},
   "outputs": [
    {
     "data": {
      "text/plain": [
       "Index(['Nation', 'Year',\n",
       "       'Total CO2 emissions from fossil-fuels and cement production (thousand metric tons of C)',\n",
       "       'Emissions from solid fuel consumption',\n",
       "       'Emissions from liquid fuel consumption',\n",
       "       'Emissions from gas fuel consumption',\n",
       "       'Emissions from cement production', 'Emissions from gas flaring',\n",
       "       'Per capita CO2 emissions (metric tons of carbon)',\n",
       "       'Emissions from bunker fuels (not included in the totals)'],\n",
       "      dtype='object')"
      ]
     },
     "execution_count": 10,
     "metadata": {},
     "output_type": "execute_result"
    }
   ],
   "source": [
    "#Now need to clean cO2 data more in order to merge together\n",
    "global_co2.columns"
   ]
  },
  {
   "cell_type": "code",
   "execution_count": 11,
   "metadata": {},
   "outputs": [
    {
     "data": {
      "text/html": [
       "<div>\n",
       "<style scoped>\n",
       "    .dataframe tbody tr th:only-of-type {\n",
       "        vertical-align: middle;\n",
       "    }\n",
       "\n",
       "    .dataframe tbody tr th {\n",
       "        vertical-align: top;\n",
       "    }\n",
       "\n",
       "    .dataframe thead th {\n",
       "        text-align: right;\n",
       "    }\n",
       "</style>\n",
       "<table border=\"1\" class=\"dataframe\">\n",
       "  <thead>\n",
       "    <tr style=\"text-align: right;\">\n",
       "      <th></th>\n",
       "      <th>Nation</th>\n",
       "      <th>Year</th>\n",
       "      <th>Total CO2 emisions (thousand metric tons of C)</th>\n",
       "    </tr>\n",
       "  </thead>\n",
       "  <tbody>\n",
       "    <tr>\n",
       "      <th>3</th>\n",
       "      <td>AFGHANISTAN</td>\n",
       "      <td>1949.0</td>\n",
       "      <td>4.0</td>\n",
       "    </tr>\n",
       "    <tr>\n",
       "      <th>4</th>\n",
       "      <td>AFGHANISTAN</td>\n",
       "      <td>1950.0</td>\n",
       "      <td>23.0</td>\n",
       "    </tr>\n",
       "    <tr>\n",
       "      <th>5</th>\n",
       "      <td>AFGHANISTAN</td>\n",
       "      <td>1951.0</td>\n",
       "      <td>25.0</td>\n",
       "    </tr>\n",
       "    <tr>\n",
       "      <th>6</th>\n",
       "      <td>AFGHANISTAN</td>\n",
       "      <td>1952.0</td>\n",
       "      <td>25.0</td>\n",
       "    </tr>\n",
       "    <tr>\n",
       "      <th>7</th>\n",
       "      <td>AFGHANISTAN</td>\n",
       "      <td>1953.0</td>\n",
       "      <td>29.0</td>\n",
       "    </tr>\n",
       "  </tbody>\n",
       "</table>\n",
       "</div>"
      ],
      "text/plain": [
       "        Nation    Year  Total CO2 emisions (thousand metric tons of C)\n",
       "3  AFGHANISTAN  1949.0                                             4.0\n",
       "4  AFGHANISTAN  1950.0                                            23.0\n",
       "5  AFGHANISTAN  1951.0                                            25.0\n",
       "6  AFGHANISTAN  1952.0                                            25.0\n",
       "7  AFGHANISTAN  1953.0                                            29.0"
      ]
     },
     "execution_count": 11,
     "metadata": {},
     "output_type": "execute_result"
    }
   ],
   "source": [
    "co2_data = global_co2[[\"Nation\", \"Year\",\"Total CO2 emissions from fossil-fuels and cement production (thousand metric tons of C)\"]]\n",
    "co2_data = co2_data.rename(columns ={\"Total CO2 emissions from fossil-fuels and cement production (thousand metric tons of C)\": \"Total CO2 emisions (thousand metric tons of C)\"}) \n",
    "co2_data = co2_data.dropna(how=\"any\")\n",
    "co2_data.head()"
   ]
  },
  {
   "cell_type": "code",
   "execution_count": 12,
   "metadata": {},
   "outputs": [
    {
     "name": "stderr",
     "output_type": "stream",
     "text": [
      "C:\\Users\\Mikey\\Anaconda3\\lib\\site-packages\\ipykernel_launcher.py:4: SettingWithCopyWarning: \n",
      "A value is trying to be set on a copy of a slice from a DataFrame.\n",
      "Try using .loc[row_indexer,col_indexer] = value instead\n",
      "\n",
      "See the caveats in the documentation: http://pandas.pydata.org/pandas-docs/stable/indexing.html#indexing-view-versus-copy\n",
      "  after removing the cwd from sys.path.\n"
     ]
    },
    {
     "data": {
      "text/html": [
       "<div>\n",
       "<style scoped>\n",
       "    .dataframe tbody tr th:only-of-type {\n",
       "        vertical-align: middle;\n",
       "    }\n",
       "\n",
       "    .dataframe tbody tr th {\n",
       "        vertical-align: top;\n",
       "    }\n",
       "\n",
       "    .dataframe thead th {\n",
       "        text-align: right;\n",
       "    }\n",
       "</style>\n",
       "<table border=\"1\" class=\"dataframe\">\n",
       "  <thead>\n",
       "    <tr style=\"text-align: right;\">\n",
       "      <th></th>\n",
       "      <th>Nation</th>\n",
       "      <th>Year</th>\n",
       "      <th>Total CO2 emisions (thousand metric tons of C)</th>\n",
       "    </tr>\n",
       "  </thead>\n",
       "  <tbody>\n",
       "    <tr>\n",
       "      <th>16200</th>\n",
       "      <td>UNITED STATES OF AMERICA</td>\n",
       "      <td>1800</td>\n",
       "      <td>69.0</td>\n",
       "    </tr>\n",
       "    <tr>\n",
       "      <th>16201</th>\n",
       "      <td>UNITED STATES OF AMERICA</td>\n",
       "      <td>1801</td>\n",
       "      <td>73.0</td>\n",
       "    </tr>\n",
       "    <tr>\n",
       "      <th>16202</th>\n",
       "      <td>UNITED STATES OF AMERICA</td>\n",
       "      <td>1802</td>\n",
       "      <td>79.0</td>\n",
       "    </tr>\n",
       "    <tr>\n",
       "      <th>16203</th>\n",
       "      <td>UNITED STATES OF AMERICA</td>\n",
       "      <td>1803</td>\n",
       "      <td>81.0</td>\n",
       "    </tr>\n",
       "    <tr>\n",
       "      <th>16204</th>\n",
       "      <td>UNITED STATES OF AMERICA</td>\n",
       "      <td>1804</td>\n",
       "      <td>91.0</td>\n",
       "    </tr>\n",
       "  </tbody>\n",
       "</table>\n",
       "</div>"
      ],
      "text/plain": [
       "                         Nation  Year  \\\n",
       "16200  UNITED STATES OF AMERICA  1800   \n",
       "16201  UNITED STATES OF AMERICA  1801   \n",
       "16202  UNITED STATES OF AMERICA  1802   \n",
       "16203  UNITED STATES OF AMERICA  1803   \n",
       "16204  UNITED STATES OF AMERICA  1804   \n",
       "\n",
       "       Total CO2 emisions (thousand metric tons of C)  \n",
       "16200                                            69.0  \n",
       "16201                                            73.0  \n",
       "16202                                            79.0  \n",
       "16203                                            81.0  \n",
       "16204                                            91.0  "
      ]
     },
     "execution_count": 12,
     "metadata": {},
     "output_type": "execute_result"
    }
   ],
   "source": [
    "US_co2 = co2_data.loc[co2_data[\"Nation\"]==\"UNITED STATES OF AMERICA\"]\n",
    "\n",
    "#Year is a floatso need to convert to int in order to merge with other data set\n",
    "US_co2[\"Year\"] = US_co2[\"Year\"].astype('int64')\n",
    "US_co2.head()"
   ]
  },
  {
   "cell_type": "code",
   "execution_count": null,
   "metadata": {},
   "outputs": [],
   "source": []
  },
  {
   "cell_type": "code",
   "execution_count": 13,
   "metadata": {},
   "outputs": [
    {
     "data": {
      "text/html": [
       "<div>\n",
       "<style scoped>\n",
       "    .dataframe tbody tr th:only-of-type {\n",
       "        vertical-align: middle;\n",
       "    }\n",
       "\n",
       "    .dataframe tbody tr th {\n",
       "        vertical-align: top;\n",
       "    }\n",
       "\n",
       "    .dataframe thead th {\n",
       "        text-align: right;\n",
       "    }\n",
       "</style>\n",
       "<table border=\"1\" class=\"dataframe\">\n",
       "  <thead>\n",
       "    <tr style=\"text-align: right;\">\n",
       "      <th></th>\n",
       "      <th>AverageTemperature</th>\n",
       "      <th>Country</th>\n",
       "      <th>Year</th>\n",
       "    </tr>\n",
       "  </thead>\n",
       "  <tbody>\n",
       "    <tr>\n",
       "      <th>554889</th>\n",
       "      <td>69.6794</td>\n",
       "      <td>United States</td>\n",
       "      <td>1769</td>\n",
       "    </tr>\n",
       "    <tr>\n",
       "      <th>554961</th>\n",
       "      <td>63.8312</td>\n",
       "      <td>United States</td>\n",
       "      <td>1775</td>\n",
       "    </tr>\n",
       "    <tr>\n",
       "      <th>554973</th>\n",
       "      <td>67.7048</td>\n",
       "      <td>United States</td>\n",
       "      <td>1776</td>\n",
       "    </tr>\n",
       "    <tr>\n",
       "      <th>554985</th>\n",
       "      <td>63.4334</td>\n",
       "      <td>United States</td>\n",
       "      <td>1777</td>\n",
       "    </tr>\n",
       "    <tr>\n",
       "      <th>554997</th>\n",
       "      <td>62.3390</td>\n",
       "      <td>United States</td>\n",
       "      <td>1778</td>\n",
       "    </tr>\n",
       "  </tbody>\n",
       "</table>\n",
       "</div>"
      ],
      "text/plain": [
       "        AverageTemperature        Country  Year\n",
       "554889             69.6794  United States  1769\n",
       "554961             63.8312  United States  1775\n",
       "554973             67.7048  United States  1776\n",
       "554985             63.4334  United States  1777\n",
       "554997             62.3390  United States  1778"
      ]
     },
     "execution_count": 13,
     "metadata": {},
     "output_type": "execute_result"
    }
   ],
   "source": [
    "#temp Month of June U.S.\n",
    "#plt.scatter(us_states_df[\"Year\"],us_states_df[\"AverageTemperature\"])\n",
    "us_states_df.head()"
   ]
  },
  {
   "cell_type": "code",
   "execution_count": null,
   "metadata": {},
   "outputs": [],
   "source": []
  },
  {
   "cell_type": "code",
   "execution_count": 14,
   "metadata": {},
   "outputs": [
    {
     "data": {
      "text/plain": [
       "<matplotlib.collections.PathCollection at 0x2153b8c0208>"
      ]
     },
     "execution_count": 14,
     "metadata": {},
     "output_type": "execute_result"
    },
    {
     "data": {
      "image/png": "[encoded data removed]",
      "text/plain": [
       "<Figure size 432x288 with 1 Axes>"
      ]
     },
     "metadata": {
      "needs_background": "light"
     },
     "output_type": "display_data"
    }
   ],
   "source": [
    "#CO2 emissions\n",
    "\n",
    "plt.xlabel(\"Year\")\n",
    "plt.ylabel(\"CO2 emissions per thousand metric tons\")\n",
    "plt.title(\"CO2 emissions of the US from 1769-2013\")\n",
    "\n",
    "plt.scatter(US_co2[\"Year\"],US_co2[\"Total CO2 emisions (thousand metric tons of C)\"])"
   ]
  },
  {
   "cell_type": "code",
   "execution_count": 15,
   "metadata": {},
   "outputs": [
    {
     "data": {
      "text/plain": [
       "<matplotlib.collections.PathCollection at 0x2153b770940>"
      ]
     },
     "execution_count": 15,
     "metadata": {},
     "output_type": "execute_result"
    },
    {
     "data": {
      "image/png": "[encoded data removed]",
      "text/plain": [
       "<Figure size 3600x720 with 1 Axes>"
      ]
     },
     "metadata": {
      "needs_background": "light"
     },
     "output_type": "display_data"
    }
   ],
   "source": [
    "#U.S. temp ove time\n",
    "fig= plt.figure(figsize=(50,10))\n",
    "plt.scatter(us_states_df[\"Year\"],us_states_df[\"AverageTemperature\"])\n"
   ]
  },
  {
   "cell_type": "code",
   "execution_count": null,
   "metadata": {},
   "outputs": [],
   "source": []
  },
  {
   "cell_type": "markdown",
   "metadata": {},
   "source": [
    "co2_group_mean.merge(us_states_df,on=[\"State\",\"Year\"])"
   ]
  },
  {
   "cell_type": "code",
   "execution_count": null,
   "metadata": {},
   "outputs": [],
   "source": []
  }
 ],
 "metadata": {
  "kernelspec": {
   "display_name": "Python 3",
   "language": "python",
   "name": "python3"
  },
  "language_info": {
   "codemirror_mode": {
    "name": "ipython",
    "version": 3
   },
   "file_extension": ".py",
   "mimetype": "text/x-python",
   "name": "python",
   "nbconvert_exporter": "python",
   "pygments_lexer": "ipython3",
   "version": "3.7.3"
  }
 },
 "nbformat": 4,
 "nbformat_minor": 2
}
